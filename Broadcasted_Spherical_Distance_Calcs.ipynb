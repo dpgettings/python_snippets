{
 "metadata": {
  "name": ""
 },
 "nbformat": 3,
 "nbformat_minor": 0,
 "worksheets": [
  {
   "cells": [
    {
     "cell_type": "markdown",
     "metadata": {},
     "source": [
      "#Faster Spherical Distance Calculations with Numpy Array Broadcasting#\n",
      "\n",
      "**An IPython Notebook Documenting an Awesome Thing I Realized**<br>\n",
      "by **Daniel P. Gettings**\n",
      "\n",
      "In Python and other interpreted languages (e.g. IDL), one should attempt to do as little looping (at the interpreted level) as possible to maximize speed. This is what the vectorized array routines in Numpy are for -- they do most of the looping in C or C++ (which is <i>much</i> faster at looping). Some of the coolest and most efficient uses of Numpy arrays come from \"array broadcasting\". This set of notes give a short demo showing how broadcasting can dramatically increase the efficiency of the spherical distance calculations that are common in Astronomy."
     ]
    },
    {
     "cell_type": "code",
     "collapsed": true,
     "input": [
      "from kapteyn.maputils import dist_on_sphere as kap_dist\n",
      "import numpy as np\n",
      "# Nicer printing for a notebook\n",
      "np.set_printoptions(formatter={'float':lambda x: '{0:0.3f}'.format(x)})\n",
      "\n",
      "\"\"\"\n",
      " Using the angular distance function from the Kapteyn \n",
      " package (http://www.astro.rug.nl/software/kapteyn), \n",
      " which uses the formula from Vincenty (1975), which\n",
      " is accurate over the whole sphere.\n",
      "\n",
      "\"\"\""
     ],
     "language": "python",
     "metadata": {},
     "outputs": [
      {
       "metadata": {},
       "output_type": "pyout",
       "prompt_number": 1,
       "text": [
        "'\\n Using the angular distance function from the Kapteyn \\n package (http://www.astro.rug.nl/software/kapteyn), \\n which uses the formula from Vincenty (1975), which\\n is accurate over the whole sphere.\\n\\n'"
       ]
      }
     ],
     "prompt_number": 1
    },
    {
     "cell_type": "markdown",
     "metadata": {},
     "source": [
      "##Quick Demo##\n",
      "####Here's an illustration of the concept, to show that the broadcasted form of the calculation is doing the same thing as the standard one.####\n",
      "\n",
      "**Task:** <br>\n",
      "  Given two sets of astronomical coordinates (<tt>cat1</tt> and <tt>cat2</tt>):\n",
      "\n",
      "   1. Calculate the angular separation between every source in <tt>cat1</tt> and every source in <tt>cat2</tt>\n",
      "   2. For the source in <tt>cat2</tt> that is closest to a given source in <tt>cat1</tt>, find:\n",
      "    + The angular separation and \n",
      "    + The array index into <tt>cat2</tt>"
     ]
    },
    {
     "cell_type": "code",
     "collapsed": false,
     "input": [
      "# Generate Random (RA,Dec) Points\n",
      "ra1 = np.random.rand(6) - 0.5\n",
      "dec1 = np.random.rand(6) - 0.5\n",
      "ra2 = np.random.rand(4) + 180-0.5\n",
      "dec2 = np.random.rand(4) - 0.5"
     ],
     "language": "python",
     "metadata": {},
     "outputs": [],
     "prompt_number": 2
    },
    {
     "cell_type": "markdown",
     "metadata": {},
     "source": [
      "**Method 1 -- Looping**\n",
      "\n",
      "Loop over every source in <tt>cat1</tt>, calculating the distance to every source in <tt>cat2</tt>. This is a pretty standard \"vectorized\" method."
     ]
    },
    {
     "cell_type": "code",
     "collapsed": false,
     "input": [
      "for ind in xrange(ra1.size):\n",
      "    # Calculate the distance to every cat2 source, one cat1 source at a time\n",
      "    dist = kap_dist(ra1[ind].copy(), dec1[ind].copy(), ra2.copy(), dec2.copy())\n",
      "    print 'Separations:',repr(dist),\n",
      "    print '| Min Sep Value: {0:0.3f}'.format(dist.min()), '| Cat2 Min Index:', dist.argmin()"
     ],
     "language": "python",
     "metadata": {},
     "outputs": [
      {
       "output_type": "stream",
       "stream": "stdout",
       "text": [
        "Separations: array([179.465, 179.776, 179.272, 179.041]) | Min Sep Value: 179.041 | Cat2 Min Index: 3\n",
        "Separations: array([179.919, 179.485, 179.322, 179.391]) | Min Sep Value: 179.322 | Cat2 Min Index: 2\n",
        "Separations: array([179.298, 179.387, 179.805, 179.741]) | Min Sep Value: 179.298 | Cat2 Min Index: 0\n",
        "Separations: array([179.720, 179.678, 179.296, 179.192]) | Min Sep Value: 179.192 | Cat2 Min Index: 3\n",
        "Separations: array([179.654, 179.118, 179.030, 179.269]) | Min Sep Value: 179.030 | Cat2 Min Index: 2\n",
        "Separations: array([179.449, 179.504, 179.761, 179.700]) | Min Sep Value: 179.449 | Cat2 Min Index: 0\n"
       ]
      }
     ],
     "prompt_number": 3
    },
    {
     "cell_type": "markdown",
     "metadata": {},
     "source": [
      "**Method 2 -- Broadcasting**\n",
      "\n",
      "Broadcasting kind of works like the <a href=\"https://en.wikipedia.org/wiki/Outer_product#Definition_.28matrix_multiplication.29\">\"Outer Product\"</a> in matrix multiplication. You will notice that the results are the same!"
     ]
    },
    {
     "cell_type": "code",
     "collapsed": false,
     "input": [
      "# Reshaping one of the sets of coordinates tells Numpy to \"broadcast\"\n",
      "ra1_vert = ra1.reshape((-1,1))\n",
      "dec1_vert = dec1.reshape((-1,1))\n",
      "# The Numpy Functions in the Distance Calculation propagate the broadcasting\n",
      "dist_broadcast = kap_dist(ra1_vert.copy(), dec1_vert.copy(), ra2.copy(), dec2.copy())\n",
      "\n",
      "print 'Separations:'\n",
      "print ' ',repr(dist_broadcast)\n",
      "print 'Min Sep Values:'\n",
      "print ' ',repr(dist_broadcast.min(axis=1))\n",
      "print 'Cat2 Min Indices:'\n",
      "print ' ',repr(dist_broadcast.argmin(axis=1))"
     ],
     "language": "python",
     "metadata": {},
     "outputs": [
      {
       "output_type": "stream",
       "stream": "stdout",
       "text": [
        "Separations:\n",
        "  array([[179.465, 179.776, 179.272, 179.041],\n",
        "       [179.919, 179.485, 179.322, 179.391],\n",
        "       [179.298, 179.387, 179.805, 179.741],\n",
        "       [179.720, 179.678, 179.296, 179.192],\n",
        "       [179.654, 179.118, 179.030, 179.269],\n",
        "       [179.449, 179.504, 179.761, 179.700]])\n",
        "Min Sep Values:\n",
        "  array([179.041, 179.322, 179.298, 179.192, 179.030, 179.449])\n",
        "Cat2 Min Indices:\n",
        "  array([3, 2, 0, 3, 2, 0])\n"
       ]
      }
     ],
     "prompt_number": 4
    },
    {
     "cell_type": "markdown",
     "metadata": {},
     "source": [
      "##Timing Comparison##\n",
      "####Comparing the runtime of both methods, looping and broadcsting.####\n",
      "\n",
      "Why add this layer of complexity? Here we compare three different cases, varying the relative number of sources in each catalog. This is where things get interesting!"
     ]
    },
    {
     "cell_type": "code",
     "collapsed": false,
     "input": [
      "# Small cat1, large cat2\n",
      "# -----------------------\n",
      "# Generate Points, Normal and Broadcasted\n",
      "ra1 = np.random.rand(20) - 0.5\n",
      "dec1 = np.random.rand(20) - 0.5\n",
      "ra2 = np.random.rand(100) + 180-0.5\n",
      "dec2 = np.random.rand(100) - 0.5\n",
      "ra1_vert = ra1.reshape((-1,1))\n",
      "dec1_vert = dec1.reshape((-1,1))\n",
      "\n",
      "# Do Time Testing\n",
      "print '\\n--------------------------------------'\n",
      "print 'Test 1'\n",
      "print ' cat1: {0:d} points, cat2: {1:d} points'.format(ra1.size, ra2.size)\n",
      "print '--------------------------------------'\n",
      "print '>> Looping Method: '\n",
      "%timeit for ind in xrange(ra1.size): dist = kap_dist(ra1[ind].copy(), dec1[ind].copy(), ra2.copy(), dec2.copy())\n",
      "print '>> Broadcasting Method: '\n",
      "%timeit dist_broadcast = kap_dist(ra1_vert.copy(), dec1_vert.copy(), ra2.copy(), dec2.copy())\n",
      "\n",
      "# Large cat1, small cat2\n",
      "# -----------------------\n",
      "# Generate Points, Normal and Broadcasted\n",
      "ra1 = np.random.rand(100) - 0.5\n",
      "dec1 = np.random.rand(100) - 0.5\n",
      "ra2 = np.random.rand(20) + 180-0.5\n",
      "dec2 = np.random.rand(20) - 0.5\n",
      "ra1_vert = ra1.reshape((-1,1))\n",
      "dec1_vert = dec1.reshape((-1,1))\n",
      "\n",
      "# Do Time Testing\n",
      "print '\\n--------------------------------------'\n",
      "print 'Test 2'\n",
      "print ' cat1: {0:d} points, cat2: {1:d} points'.format(ra1.size, ra2.size)\n",
      "print '--------------------------------------'\n",
      "print '>> Looping Method: '\n",
      "%timeit for ind in xrange(ra1.size): dist = kap_dist(ra1[ind].copy(), dec1[ind].copy(), ra2.copy(), dec2.copy())\n",
      "print '>> Broadcasting Method: '\n",
      "%timeit dist_broadcast = kap_dist(ra1_vert.copy(), dec1_vert.copy(), ra2.copy(), dec2.copy())\n",
      "\n",
      "# Large cat1, Large cat2\n",
      "# -----------------------\n",
      "# Generate Points, Normal and Broadcasted\n",
      "ra1 = np.random.rand(100) - 0.5\n",
      "dec1 = np.random.rand(100) - 0.5\n",
      "ra2 = np.random.rand(100) + 180-0.5\n",
      "dec2 = np.random.rand(100) - 0.5\n",
      "ra1_vert = ra1.reshape((-1,1))\n",
      "dec1_vert = dec1.reshape((-1,1))\n",
      "\n",
      "# Do Time Testing\n",
      "print '\\n--------------------------------------'\n",
      "print 'Test 3'\n",
      "print ' cat1: {0:d} points, cat2: {1:d} points'.format(ra1.size, ra2.size)\n",
      "print '--------------------------------------'\n",
      "print '>> Looping Method: '\n",
      "%timeit for ind in xrange(ra1.size): dist = kap_dist(ra1[ind].copy(), dec1[ind].copy(), ra2.copy(), dec2.copy())\n",
      "print '>> Broadcasting Method: '\n",
      "%timeit dist_broadcast = kap_dist(ra1_vert.copy(), dec1_vert.copy(), ra2.copy(), dec2.copy())"
     ],
     "language": "python",
     "metadata": {},
     "outputs": [
      {
       "output_type": "stream",
       "stream": "stdout",
       "text": [
        "\n",
        "--------------------------------------\n",
        "Test 1\n",
        " cat1: 20 points, cat2: 100 points\n",
        "--------------------------------------\n",
        ">> Looping Method: \n",
        "100 loops, best of 3: 2.87 ms per loop"
       ]
      },
      {
       "output_type": "stream",
       "stream": "stdout",
       "text": [
        "\n",
        ">> Broadcasting Method: \n",
        "1000 loops, best of 3: 516 \u00b5s per loop"
       ]
      },
      {
       "output_type": "stream",
       "stream": "stdout",
       "text": [
        "\n",
        "\n",
        "--------------------------------------\n",
        "Test 2\n",
        " cat1: 100 points, cat2: 20 points\n",
        "--------------------------------------\n",
        ">> Looping Method: \n",
        "100 loops, best of 3: 12 ms per loop"
       ]
      },
      {
       "output_type": "stream",
       "stream": "stdout",
       "text": [
        "\n",
        ">> Broadcasting Method: \n",
        "1000 loops, best of 3: 519 \u00b5s per loop"
       ]
      },
      {
       "output_type": "stream",
       "stream": "stdout",
       "text": [
        "\n",
        "\n",
        "--------------------------------------\n",
        "Test 3\n",
        " cat1: 100 points, cat2: 100 points\n",
        "--------------------------------------\n",
        ">> Looping Method: \n",
        "100 loops, best of 3: 14.2 ms per loop"
       ]
      },
      {
       "output_type": "stream",
       "stream": "stdout",
       "text": [
        "\n",
        ">> Broadcasting Method: \n",
        "100 loops, best of 3: 2.02 ms per loop"
       ]
      },
      {
       "output_type": "stream",
       "stream": "stdout",
       "text": [
        "\n"
       ]
      }
     ],
     "prompt_number": 5
    },
    {
     "cell_type": "markdown",
     "metadata": {},
     "source": [
      "####Worse-Case Scenarios####\n",
      "\n",
      "Here we compare the worst-case runtime scenarios for each method. \n",
      "\n",
      "+ For **broadcasting**, the worst-case is a very small number of sources in <tt>cat1</tt> relative to <tt>cat2</tt>. In this case, looping gains its greatest level of optimization from Numpy's vectorized array operations, putting nearly all the *actual* looping in C/C++. But it still performs *fewer* loop iterations in C/C++ than the broadcasted calculation.\n",
      "\n",
      "+ The worse-case for **looping** is a very large number of <tt>cat1</tt> sources relative to <tt>cat2</tt>. Only a tiny fraction of the *actual* looping gets done in C/C++, while the vast majority of it is performed in (slow) Python. For broadcasting, the calculation looks nearly identical to its worst-case, putting *all* the looping in C/C++."
     ]
    },
    {
     "cell_type": "code",
     "collapsed": false,
     "input": [
      "# ----------------------------------\n",
      "# Broadcasting Worst Case Scenario \n",
      "# --> Small cat1, tiny cat2\n",
      "# ----------------------------------\n",
      "# Generate Points, Normal and Broadcasted\n",
      "ra1 = np.random.rand(5) - 0.5\n",
      "dec1 = np.random.rand(5) - 0.5\n",
      "ra2 = np.random.rand(1e4) + 180-0.5\n",
      "dec2 = np.random.rand(1e4) - 0.5\n",
      "ra1_vert = ra1.reshape((-1,1))\n",
      "dec1_vert = dec1.reshape((-1,1))\n",
      "\n",
      "# Do Time Testing\n",
      "print '\\n--------------------------------------'\n",
      "print 'Broadcasting Worst Case Scenario'\n",
      "print ' cat1: {0:d} points, cat2: {1:d} points'.format(ra1.size, ra2.size)\n",
      "print '--------------------------------------'\n",
      "print '>> Looping Method: '\n",
      "%timeit for ind in xrange(ra1.size): dist = kap_dist(ra1[ind].copy(), dec1[ind].copy(), ra2.copy(), dec2.copy())\n",
      "print '>> Broadcasting Method: '\n",
      "%timeit dist_broadcast = kap_dist(ra1_vert.copy(), dec1_vert.copy(), ra2.copy(), dec2.copy())\n",
      "\n",
      "# ----------------------------------\n",
      "# Looping Worst Case Scenario \n",
      "# --> Huge cat1, tiny cat2\n",
      "# ----------------------------------\n",
      "# Generate Points, Normal and Broadcasted\n",
      "ra1 = np.random.rand(1e4) - 0.5\n",
      "dec1 = np.random.rand(1e4) - 0.5\n",
      "ra2 = np.random.rand(5) + 180-0.5\n",
      "dec2 = np.random.rand(5) - 0.5\n",
      "ra1_vert = ra1.reshape((-1,1))\n",
      "dec1_vert = dec1.reshape((-1,1))\n",
      "\n",
      "# Do Time Testing\n",
      "print '\\n--------------------------------------'\n",
      "print 'Looping Worst Case Scenario'\n",
      "print ' cat1: {0:d} points, cat2: {1:d} points'.format(ra1.size, ra2.size)\n",
      "print '--------------------------------------'\n",
      "print '>> Looping Method: '\n",
      "%timeit for ind in xrange(ra1.size): dist = kap_dist(ra1[ind].copy(), dec1[ind].copy(), ra2.copy(), dec2.copy())\n",
      "print '>> Broadcasting Method: '\n",
      "%timeit dist_broadcast = kap_dist(ra1_vert.copy(), dec1_vert.copy(), ra2.copy(), dec2.copy())"
     ],
     "language": "python",
     "metadata": {},
     "outputs": [
      {
       "output_type": "stream",
       "stream": "stdout",
       "text": [
        "\n",
        "--------------------------------------\n",
        "Broadcasting Worst Case Scenario\n",
        " cat1: 5 points, cat2: 10000 points\n",
        "--------------------------------------\n",
        ">> Looping Method: \n",
        "100 loops, best of 3: 14.2 ms per loop"
       ]
      },
      {
       "output_type": "stream",
       "stream": "stdout",
       "text": [
        "\n",
        ">> Broadcasting Method: \n",
        "100 loops, best of 3: 10.9 ms per loop"
       ]
      },
      {
       "output_type": "stream",
       "stream": "stdout",
       "text": [
        "\n",
        "\n",
        "--------------------------------------\n",
        "Looping Worst Case Scenario\n",
        " cat1: 10000 points, cat2: 5 points\n",
        "--------------------------------------\n",
        ">> Looping Method: \n",
        "1 loops, best of 3: 1.17 s per loop"
       ]
      },
      {
       "output_type": "stream",
       "stream": "stdout",
       "text": [
        "\n",
        ">> Broadcasting Method: \n",
        "100 loops, best of 3: 12.3 ms per loop"
       ]
      },
      {
       "output_type": "stream",
       "stream": "stdout",
       "text": [
        "\n"
       ]
      }
     ],
     "prompt_number": 6
    },
    {
     "cell_type": "markdown",
     "metadata": {},
     "source": [
      "##Verdict##\n",
      "\n",
      "In its worst-case runtime scenario, the array broadcasting method is ${\\sim} 10\\%$ slower than the simple looping scheme. However, in it's best-case runtime scenario, they broadcasted calculation is **nearly 1000 times faster than looping in Python!**"
     ]
    }
   ],
   "metadata": {}
  }
 ]
}