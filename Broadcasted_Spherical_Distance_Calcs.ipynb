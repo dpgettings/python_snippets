{
 "metadata": {
  "name": ""
 },
 "nbformat": 3,
 "nbformat_minor": 0,
 "worksheets": [
  {
   "cells": [
    {
     "cell_type": "code",
     "collapsed": false,
     "input": [
      "from kapteyn.maputils import dist_on_sphere as kap_dist\n",
      "import numpy as np\n",
      "\n",
      "# Generate Random (RA,Dec) Points\n",
      "ra1 = np.random.rand(5) - 0.5\n",
      "dec1 = np.random.rand(5) - 0.5\n",
      "ra2 = np.random.rand(3) + 180-0.5\n",
      "dec2 = np.random.rand(3) - 0.5"
     ],
     "language": "python",
     "metadata": {},
     "outputs": [],
     "prompt_number": 2
    },
    {
     "cell_type": "code",
     "collapsed": false,
     "input": [
      "# Looping Method\n",
      "for ind in xrange(ra1.size):\n",
      "    dist = kap_dist(ra1[ind].copy(), dec1[ind].copy(), ra2.copy(), dec2.copy())\n",
      "    print dist"
     ],
     "language": "python",
     "metadata": {},
     "outputs": [
      {
       "output_type": "stream",
       "stream": "stdout",
       "text": [
        "[ 179.71190586  179.77303785  179.4843512 ]\n",
        "[ 179.84501857  179.52805555  179.31144368]\n",
        "[ 179.59294931  179.32974541  179.85470151]\n",
        "[ 179.47244357  179.43718138  178.93705889]\n",
        "[ 179.44057399  179.06758195  179.6041493 ]\n"
       ]
      }
     ],
     "prompt_number": 7
    },
    {
     "cell_type": "code",
     "collapsed": false,
     "input": [
      "# Broadcasting Method\n",
      "ra1_vert = ra1.reshape((-1,1))\n",
      "dec1_vert = dec1.reshape((-1,1))\n",
      "\n",
      "dist_broadcast = kap_dist(ra1_vert.copy(), dec1_vert.copy(), ra2.copy(), dec2.copy())\n",
      "print dist_broadcast"
     ],
     "language": "python",
     "metadata": {},
     "outputs": [
      {
       "output_type": "stream",
       "stream": "stdout",
       "text": [
        "[[ 179.71190586  179.77303785  179.4843512 ]\n",
        " [ 179.84501857  179.52805555  179.31144368]\n",
        " [ 179.59294931  179.32974541  179.85470151]\n",
        " [ 179.47244357  179.43718138  178.93705889]\n",
        " [ 179.44057399  179.06758195  179.6041493 ]]\n"
       ]
      }
     ],
     "prompt_number": 8
    },
    {
     "cell_type": "code",
     "collapsed": false,
     "input": [
      "# ------------------\n",
      "# Timing Comparison\n",
      "# ------------------\n",
      "\n",
      "# Small cat1, large cat2\n",
      "# -----------------------\n",
      "# Generate Points, Normal and Broadcasted\n",
      "ra1 = np.random.rand(20) - 0.5\n",
      "dec1 = np.random.rand(20) - 0.5\n",
      "ra2 = np.random.rand(100) + 180-0.5\n",
      "dec2 = np.random.rand(100) - 0.5\n",
      "ra1_vert = ra1.reshape((-1,1))\n",
      "dec1_vert = dec1.reshape((-1,1))\n",
      "\n",
      "# Do Time Testing\n",
      "print '\\n--------------------------------------'\n",
      "print 'Test 1'\n",
      "print 'cat1: {0:d} points, cat2: {1:d} points'.format(ra1.size, ra2.size)\n",
      "print '--------------------------------------'\n",
      "print '>> Looping Method: '\n",
      "%timeit for ind in xrange(ra1.size): dist = kap_dist(ra1[ind].copy(), dec1[ind].copy(), ra2.copy(), dec2.copy())\n",
      "print '>> Broadcasting Method: '\n",
      "%timeit dist_broadcast = kap_dist(ra1_vert.copy(), dec1_vert.copy(), ra2.copy(), dec2.copy())\n",
      "\n",
      "# Large cat1, small cat2\n",
      "# -----------------------\n",
      "# Generate Points, Normal and Broadcasted\n",
      "ra1 = np.random.rand(100) - 0.5\n",
      "dec1 = np.random.rand(100) - 0.5\n",
      "ra2 = np.random.rand(20) + 180-0.5\n",
      "dec2 = np.random.rand(20) - 0.5\n",
      "ra1_vert = ra1.reshape((-1,1))\n",
      "dec1_vert = dec1.reshape((-1,1))\n",
      "\n",
      "# Do Time Testing\n",
      "print '\\n--------------------------------------'\n",
      "print 'Test 2'\n",
      "print 'cat1: {0:d} points, cat2: {1:d} points'.format(ra1.size, ra2.size)\n",
      "print '--------------------------------------'\n",
      "print '>> Looping Method: '\n",
      "%timeit for ind in xrange(ra1.size): dist = kap_dist(ra1[ind].copy(), dec1[ind].copy(), ra2.copy(), dec2.copy())\n",
      "print '>> Broadcasting Method: '\n",
      "%timeit dist_broadcast = kap_dist(ra1_vert.copy(), dec1_vert.copy(), ra2.copy(), dec2.copy())\n",
      "\n",
      "# Large cat1, Large cat2\n",
      "# -----------------------\n",
      "# Generate Points, Normal and Broadcasted\n",
      "ra1 = np.random.rand(100) - 0.5\n",
      "dec1 = np.random.rand(100) - 0.5\n",
      "ra2 = np.random.rand(100) + 180-0.5\n",
      "dec2 = np.random.rand(100) - 0.5\n",
      "ra1_vert = ra1.reshape((-1,1))\n",
      "dec1_vert = dec1.reshape((-1,1))\n",
      "\n",
      "# Do Time Testing\n",
      "print '\\n--------------------------------------'\n",
      "print 'Test 3'\n",
      "print 'cat1: {0:d} points, cat2: {1:d} points'.format(ra1.size, ra2.size)\n",
      "print '--------------------------------------'\n",
      "print '>> Looping Method: '\n",
      "%timeit for ind in xrange(ra1.size): dist = kap_dist(ra1[ind].copy(), dec1[ind].copy(), ra2.copy(), dec2.copy())\n",
      "print '>> Broadcasting Method: '\n",
      "%timeit dist_broadcast = kap_dist(ra1_vert.copy(), dec1_vert.copy(), ra2.copy(), dec2.copy())"
     ],
     "language": "python",
     "metadata": {},
     "outputs": [
      {
       "output_type": "stream",
       "stream": "stdout",
       "text": [
        "\n",
        "--------------------------------------\n",
        "Test 1\n",
        "cat1: 20 points, cat2: 100 points\n",
        "--------------------------------------\n",
        ">> Looping Method: \n",
        "100 loops, best of 3: 2.92 ms per loop"
       ]
      },
      {
       "output_type": "stream",
       "stream": "stdout",
       "text": [
        "\n",
        ">> Broadcasting Method: \n",
        "1000 loops, best of 3: 517 \u00b5s per loop"
       ]
      },
      {
       "output_type": "stream",
       "stream": "stdout",
       "text": [
        "\n",
        "\n",
        "--------------------------------------\n",
        "Test 2\n",
        "cat1: 100 points, cat2: 20 points\n",
        "--------------------------------------\n",
        ">> Looping Method: \n",
        "100 loops, best of 3: 12.2 ms per loop"
       ]
      },
      {
       "output_type": "stream",
       "stream": "stdout",
       "text": [
        "\n",
        ">> Broadcasting Method: \n",
        "1000 loops, best of 3: 521 \u00b5s per loop"
       ]
      },
      {
       "output_type": "stream",
       "stream": "stdout",
       "text": [
        "\n",
        "\n",
        "--------------------------------------\n",
        "Test 3\n",
        "cat1: 100 points, cat2: 100 points\n",
        "--------------------------------------\n",
        ">> Looping Method: \n",
        "100 loops, best of 3: 14.5 ms per loop"
       ]
      },
      {
       "output_type": "stream",
       "stream": "stdout",
       "text": [
        "\n",
        ">> Broadcasting Method: \n",
        "100 loops, best of 3: 2.01 ms per loop"
       ]
      },
      {
       "output_type": "stream",
       "stream": "stdout",
       "text": [
        "\n"
       ]
      }
     ],
     "prompt_number": 17
    },
    {
     "cell_type": "code",
     "collapsed": false,
     "input": [
      "# ----------------------------------\n",
      "# Broadcasting Worst Case Scenario \n",
      "# --> Small cat1, tiny cat2\n",
      "# ----------------------------------\n",
      "# Generate Points, Normal and Broadcasted\n",
      "ra1 = np.random.rand(5) - 0.5\n",
      "dec1 = np.random.rand(5) - 0.5\n",
      "ra2 = np.random.rand(1e4) + 180-0.5\n",
      "dec2 = np.random.rand(1e4) - 0.5\n",
      "ra1_vert = ra1.reshape((-1,1))\n",
      "dec1_vert = dec1.reshape((-1,1))\n",
      "\n",
      "# Do Time Testing\n",
      "print '\\n--------------------------------------'\n",
      "print 'Broadcasting Worst Case Scenario'\n",
      "print 'cat1: {0:d} points, cat2: {1:d} points'.format(ra1.size, ra2.size)\n",
      "print '--------------------------------------'\n",
      "print '>> Looping Method: '\n",
      "%timeit for ind in xrange(ra1.size): dist = kap_dist(ra1[ind].copy(), dec1[ind].copy(), ra2.copy(), dec2.copy())\n",
      "print '>> Broadcasting Method: '\n",
      "%timeit dist_broadcast = kap_dist(ra1_vert.copy(), dec1_vert.copy(), ra2.copy(), dec2.copy())\n",
      "\n",
      "# ----------------------------------\n",
      "# Looping Worst Case Scenario \n",
      "# --> Huge cat1, tiny cat2\n",
      "# ----------------------------------\n",
      "# Generate Points, Normal and Broadcasted\n",
      "ra1 = np.random.rand(1e4) - 0.5\n",
      "dec1 = np.random.rand(1e4) - 0.5\n",
      "ra2 = np.random.rand(5) + 180-0.5\n",
      "dec2 = np.random.rand(5) - 0.5\n",
      "ra1_vert = ra1.reshape((-1,1))\n",
      "dec1_vert = dec1.reshape((-1,1))\n",
      "\n",
      "# Do Time Testing\n",
      "print '\\n--------------------------------------'\n",
      "print 'Looping Worst Case Scenario'\n",
      "print 'cat1: {0:d} points, cat2: {1:d} points'.format(ra1.size, ra2.size)\n",
      "print '--------------------------------------'\n",
      "print '>> Looping Method: '\n",
      "%timeit for ind in xrange(ra1.size): dist = kap_dist(ra1[ind].copy(), dec1[ind].copy(), ra2.copy(), dec2.copy())\n",
      "print '>> Broadcasting Method: '\n",
      "%timeit dist_broadcast = kap_dist(ra1_vert.copy(), dec1_vert.copy(), ra2.copy(), dec2.copy())"
     ],
     "language": "python",
     "metadata": {},
     "outputs": [
      {
       "output_type": "stream",
       "stream": "stdout",
       "text": [
        "\n",
        "--------------------------------------\n",
        "Broadcasting Worst Case Scenario\n",
        "cat1: 5 points, cat2: 10000 points\n",
        "--------------------------------------\n",
        ">> Looping Method: \n",
        "100 loops, best of 3: 13.5 ms per loop"
       ]
      },
      {
       "output_type": "stream",
       "stream": "stdout",
       "text": [
        "\n",
        ">> Broadcasting Method: \n",
        "100 loops, best of 3: 10.9 ms per loop"
       ]
      },
      {
       "output_type": "stream",
       "stream": "stdout",
       "text": [
        "\n",
        "\n",
        "--------------------------------------\n",
        "Looping Worst Case Scenario\n",
        "cat1: 10000 points, cat2: 5 points\n",
        "--------------------------------------\n",
        ">> Looping Method: \n",
        "1 loops, best of 3: 1.18 s per loop"
       ]
      },
      {
       "output_type": "stream",
       "stream": "stdout",
       "text": [
        "\n",
        ">> Broadcasting Method: \n",
        "100 loops, best of 3: 12.3 ms per loop"
       ]
      },
      {
       "output_type": "stream",
       "stream": "stdout",
       "text": [
        "\n"
       ]
      }
     ],
     "prompt_number": 18
    }
   ],
   "metadata": {}
  }
 ]
}