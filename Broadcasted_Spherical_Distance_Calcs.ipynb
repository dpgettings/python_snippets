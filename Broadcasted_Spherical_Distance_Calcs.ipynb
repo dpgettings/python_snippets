{
 "metadata": {
  "name": "Broadcasted_Spherical_Distance_Calcs"
 },
 "nbformat": 3,
 "nbformat_minor": 0,
 "worksheets": [
  {
   "cells": [
    {
     "cell_type": "markdown",
     "metadata": {},
     "source": "#Faster Spherical Distance Calculations with Numpy Array Broadcasting#\n\n**An IPython Notebook Documenting an Awesome Thing I Realized**<br>\nby **Daniel P. Gettings**\n\nIn Python and other interpreted languages (e.g. IDL), one should attempt to do as little looping (at the interpreted level) as possible to maximize speed. This is what the vectorized array routines in Numpy are for -- they do most of the looping in C or C++ (which is <i>much</i> faster at looping). Some of the coolest and most efficient uses of Numpy arrays come from \"array broadcasting\". This set of notes give a short demo showing how broadcasting can dramatically increase the efficiency of the spherical distance calculations that are common in Astronomy."
    },
    {
     "cell_type": "code",
     "collapsed": true,
     "input": "from kapteyn.maputils import dist_on_sphere as kap_dist\nimport numpy as np\n# Nicer printing for a notebook\nnp.set_printoptions(formatter={'float':lambda x: '{0:0.3f}'.format(x)})\n\n\"\"\"\n Using the angular distance function from the Kapteyn \n package (http://www.astro.rug.nl/software/kapteyn), \n which uses the formula from Vincenty (1975), which\n is accurate over the whole sphere.\n\n\"\"\"",
     "language": "python",
     "metadata": {},
     "outputs": [
      {
       "metadata": {},
       "output_type": "pyout",
       "prompt_number": 1,
       "text": "'\\n Using the angular distance function from the Kapteyn \\n package (http://www.astro.rug.nl/software/kapteyn), \\n which uses the formula from Vincenty (1975), which\\n is accurate over the whole sphere.\\n\\n'"
      }
     ],
     "prompt_number": 1
    },
    {
     "cell_type": "markdown",
     "metadata": {},
     "source": "##Quick Demo##\n####Here's an illustration of the concept, to show that the broadcasted form of the calculation is doing the same thing as the standard one.####\n\n**Task:** <br>\n  Given two sets of astronomical coordinates (<tt>cat1</tt> and <tt>cat2</tt>):\n\n   1. Calculate the angular separation between every source in <tt>cat1</tt> and every source in <tt>cat2</tt>\n   2. For the source in <tt>cat2</tt> that is closest to a given source in <tt>cat1</tt>, find:\n    + The angular separation and \n    + The array index into <tt>cat2</tt>"
    },
    {
     "cell_type": "code",
     "collapsed": false,
     "input": "# Generate Random (RA,Dec) Points\nra1 = np.random.rand(6) - 0.5\ndec1 = np.random.rand(6) - 0.5\nra2 = np.random.rand(4) + 180-0.5\ndec2 = np.random.rand(4) - 0.5",
     "language": "python",
     "metadata": {},
     "outputs": [],
     "prompt_number": 2
    },
    {
     "cell_type": "markdown",
     "metadata": {},
     "source": "**Method 1 -- Looping**\n\nLoop over every source in <tt>cat1</tt>, calculating the distance to every source in <tt>cat2</tt>. This is a pretty standard \"vectorized\" method."
    },
    {
     "cell_type": "code",
     "collapsed": false,
     "input": "for ind in xrange(ra1.size):\n    # Calculate the distance to every cat2 source, one cat1 source at a time\n    dist = kap_dist(ra1[ind].copy(), dec1[ind].copy(), ra2.copy(), dec2.copy())\n    print 'Separations:',repr(dist),\n    print '| Min Sep Value: {0:0.3f}'.format(dist.min()), '| Cat2 Min Index:', dist.argmin()",
     "language": "python",
     "metadata": {},
     "outputs": [
      {
       "output_type": "stream",
       "stream": "stdout",
       "text": "Separations: array([179.389, 179.365, 179.473, 179.237]) | Min Sep Value: 179.237 | Cat2 Min Index: 3\nSeparations: array([179.669, 179.453, 179.672, 179.736]) | Min Sep Value: 179.453 | Cat2 Min Index: 1\nSeparations: array([179.779, 179.765, 179.394, 179.551]) | Min Sep Value: 179.394 | Cat2 Min Index: 2\nSeparations: array([179.415, 179.191, 179.713, 179.578]) | Min Sep Value: 179.191 | Cat2 Min Index: 1\nSeparations: array([179.971, 179.783, 179.336, 179.734]) | Min Sep Value: 179.336 | Cat2 Min Index: 2\nSeparations: array([179.419, 179.196, 179.730, 179.574]) | Min Sep Value: 179.196 | Cat2 Min Index: 1\n"
      }
     ],
     "prompt_number": 3
    },
    {
     "cell_type": "markdown",
     "metadata": {},
     "source": "**Method 2 -- Broadcasting**\n\nBroadcasting kind of works like the <a href=\"https://en.wikipedia.org/wiki/Outer_product#Definition_.28matrix_multiplication.29\">\"Outer Product\"</a> in matrix multiplication. You will notice that the results are the same!"
    },
    {
     "cell_type": "code",
     "collapsed": false,
     "input": "# Reshaping one of the sets of coordinates tells Numpy to \"broadcast\"\nra1_vert = ra1.reshape((-1,1))\ndec1_vert = dec1.reshape((-1,1))\n# The Numpy Functions in the Distance Calculation propagate the broadcasting\ndist_broadcast = kap_dist(ra1_vert.copy(), dec1_vert.copy(), ra2.copy(), dec2.copy())\n\nprint 'Separations:'\nprint ' ',repr(dist_broadcast)\nprint 'Min Sep Values:'\nprint ' ',repr(dist_broadcast.min(axis=1))\nprint 'Cat2 Min Indices:'\nprint ' ',repr(dist_broadcast.argmin(axis=1))",
     "language": "python",
     "metadata": {},
     "outputs": [
      {
       "output_type": "stream",
       "stream": "stdout",
       "text": "Separations:\n  array([[179.389, 179.365, 179.473, 179.237],\n       [179.669, 179.453, 179.672, 179.736],\n       [179.779, 179.765, 179.394, 179.551],\n       [179.415, 179.191, 179.713, 179.578],\n       [179.971, 179.783, 179.336, 179.734],\n       [179.419, 179.196, 179.730, 179.574]])\nMin Sep Values:\n  array([179.237, 179.453, 179.394, 179.191, 179.336, 179.196])\nCat2 Min Indices:\n  array([3, 1, 2, 1, 2, 1])\n"
      }
     ],
     "prompt_number": 4
    },
    {
     "cell_type": "markdown",
     "metadata": {},
     "source": "##Timing Comparison##\n####Comparing the runtime of both methods, looping and broadcsting.####\n\nWhy add this layer of complexity? Here we compare three different cases, varying the relative number of sources in each catalog. This is where things get interesting!"
    },
    {
     "cell_type": "code",
     "collapsed": false,
     "input": "# Small cat1, large cat2\n# -----------------------\n# Generate Points, Normal and Broadcasted\nra1 = np.random.rand(20) - 0.5\ndec1 = np.random.rand(20) - 0.5\nra2 = np.random.rand(100) + 180-0.5\ndec2 = np.random.rand(100) - 0.5\nra1_vert = ra1.reshape((-1,1))\ndec1_vert = dec1.reshape((-1,1))\n\n# Do Time Testing\nprint '\\n--------------------------------------'\nprint 'Test 1'\nprint ' cat1: {0:d} points, cat2: {1:d} points'.format(ra1.size, ra2.size)\nprint '--------------------------------------'\nprint '>> Looping Method: '\n%timeit for ind in xrange(ra1.size): dist = kap_dist(ra1[ind].copy(), dec1[ind].copy(), ra2.copy(), dec2.copy())\nprint '>> Broadcasting Method: '\n%timeit dist_broadcast = kap_dist(ra1_vert.copy(), dec1_vert.copy(), ra2.copy(), dec2.copy())\n\n# Large cat1, small cat2\n# -----------------------\n# Generate Points, Normal and Broadcasted\nra1 = np.random.rand(100) - 0.5\ndec1 = np.random.rand(100) - 0.5\nra2 = np.random.rand(20) + 180-0.5\ndec2 = np.random.rand(20) - 0.5\nra1_vert = ra1.reshape((-1,1))\ndec1_vert = dec1.reshape((-1,1))\n\n# Do Time Testing\nprint '\\n--------------------------------------'\nprint 'Test 2'\nprint ' cat1: {0:d} points, cat2: {1:d} points'.format(ra1.size, ra2.size)\nprint '--------------------------------------'\nprint '>> Looping Method: '\n%timeit for ind in xrange(ra1.size): dist = kap_dist(ra1[ind].copy(), dec1[ind].copy(), ra2.copy(), dec2.copy())\nprint '>> Broadcasting Method: '\n%timeit dist_broadcast = kap_dist(ra1_vert.copy(), dec1_vert.copy(), ra2.copy(), dec2.copy())\n\n# Large cat1, Large cat2\n# -----------------------\n# Generate Points, Normal and Broadcasted\nra1 = np.random.rand(100) - 0.5\ndec1 = np.random.rand(100) - 0.5\nra2 = np.random.rand(100) + 180-0.5\ndec2 = np.random.rand(100) - 0.5\nra1_vert = ra1.reshape((-1,1))\ndec1_vert = dec1.reshape((-1,1))\n\n# Do Time Testing\nprint '\\n--------------------------------------'\nprint 'Test 3'\nprint ' cat1: {0:d} points, cat2: {1:d} points'.format(ra1.size, ra2.size)\nprint '--------------------------------------'\nprint '>> Looping Method: '\n%timeit for ind in xrange(ra1.size): dist = kap_dist(ra1[ind].copy(), dec1[ind].copy(), ra2.copy(), dec2.copy())\nprint '>> Broadcasting Method: '\n%timeit dist_broadcast = kap_dist(ra1_vert.copy(), dec1_vert.copy(), ra2.copy(), dec2.copy())",
     "language": "python",
     "metadata": {},
     "outputs": [
      {
       "output_type": "stream",
       "stream": "stdout",
       "text": "\n--------------------------------------\nTest 1\n cat1: 20 points, cat2: 100 points\n--------------------------------------\n>> Looping Method: \n100 loops, best of 3: 2.89 ms per loop"
      },
      {
       "output_type": "stream",
       "stream": "stdout",
       "text": "\n>> Broadcasting Method: \n1000 loops, best of 3: 515 \u00b5s per loop"
      },
      {
       "output_type": "stream",
       "stream": "stdout",
       "text": "\n\n--------------------------------------\nTest 2\n cat1: 100 points, cat2: 20 points\n--------------------------------------\n>> Looping Method: \n100 loops, best of 3: 12.2 ms per loop"
      },
      {
       "output_type": "stream",
       "stream": "stdout",
       "text": "\n>> Broadcasting Method: \n1000 loops, best of 3: 528 \u00b5s per loop"
      },
      {
       "output_type": "stream",
       "stream": "stdout",
       "text": "\n\n--------------------------------------\nTest 3\n cat1: 100 points, cat2: 100 points\n--------------------------------------\n>> Looping Method: \n100 loops, best of 3: 14.7 ms per loop"
      },
      {
       "output_type": "stream",
       "stream": "stdout",
       "text": "\n>> Broadcasting Method: \n100 loops, best of 3: 2.09 ms per loop"
      },
      {
       "output_type": "stream",
       "stream": "stdout",
       "text": "\n"
      }
     ],
     "prompt_number": 5
    },
    {
     "cell_type": "markdown",
     "metadata": {},
     "source": "####Worse-Case Scenarios####\n\nHere we compare the worst-case runtime scenarios for each method. \n\n+ For **broadcasting**, the worst-case is a very small number of sources in <tt>cat1</tt> relative to <tt>cat2</tt>. In this case, looping gains its greatest level of optimization from Numpy's vectorized array operations, putting nearly all the *actual* looping in C/C++. But it still performs *fewer* loop iterations in C/C++ than the broadcasted calculation.\n\n+ The worse-case for **looping** is a very large number of <tt>cat1</tt> sources relative to <tt>cat2</tt>. Only a tiny fraction of the *actual* looping gets done in C/C++, while the vast majority of it is performed in (slow) Python. For broadcasting, the calculation looks nearly identical to its worst-case, putting *all* the looping in C/C++."
    },
    {
     "cell_type": "code",
     "collapsed": false,
     "input": "# ----------------------------------\n# Broadcasting Worst Case Scenario \n# --> Small cat1, tiny cat2\n# ----------------------------------\n# Generate Points, Normal and Broadcasted\nra1 = np.random.rand(5) - 0.5\ndec1 = np.random.rand(5) - 0.5\nra2 = np.random.rand(1e4) + 180-0.5\ndec2 = np.random.rand(1e4) - 0.5\nra1_vert = ra1.reshape((-1,1))\ndec1_vert = dec1.reshape((-1,1))\n\n# Do Time Testing\nprint '\\n--------------------------------------'\nprint 'Broadcasting Worst Case Scenario'\nprint ' cat1: {0:d} points, cat2: {1:d} points'.format(ra1.size, ra2.size)\nprint '--------------------------------------'\nprint '>> Looping Method: '\n%timeit for ind in xrange(ra1.size): dist = kap_dist(ra1[ind].copy(), dec1[ind].copy(), ra2.copy(), dec2.copy())\nprint '>> Broadcasting Method: '\n%timeit dist_broadcast = kap_dist(ra1_vert.copy(), dec1_vert.copy(), ra2.copy(), dec2.copy())\n\n# ----------------------------------\n# Looping Worst Case Scenario \n# --> Huge cat1, tiny cat2\n# ----------------------------------\n# Generate Points, Normal and Broadcasted\nra1 = np.random.rand(1e4) - 0.5\ndec1 = np.random.rand(1e4) - 0.5\nra2 = np.random.rand(5) + 180-0.5\ndec2 = np.random.rand(5) - 0.5\nra1_vert = ra1.reshape((-1,1))\ndec1_vert = dec1.reshape((-1,1))\n\n# Do Time Testing\nprint '\\n--------------------------------------'\nprint 'Looping Worst Case Scenario'\nprint ' cat1: {0:d} points, cat2: {1:d} points'.format(ra1.size, ra2.size)\nprint '--------------------------------------'\nprint '>> Looping Method: '\n%timeit for ind in xrange(ra1.size): dist = kap_dist(ra1[ind].copy(), dec1[ind].copy(), ra2.copy(), dec2.copy())\nprint '>> Broadcasting Method: '\n%timeit dist_broadcast = kap_dist(ra1_vert.copy(), dec1_vert.copy(), ra2.copy(), dec2.copy())",
     "language": "python",
     "metadata": {},
     "outputs": [
      {
       "output_type": "stream",
       "stream": "stdout",
       "text": "\n--------------------------------------\nBroadcasting Worst Case Scenario\n cat1: 5 points, cat2: 10000 points\n--------------------------------------\n>> Looping Method: \n10 loops, best of 3: 13.3 ms per loop"
      },
      {
       "output_type": "stream",
       "stream": "stdout",
       "text": "\n>> Broadcasting Method: \n100 loops, best of 3: 11.7 ms per loop"
      },
      {
       "output_type": "stream",
       "stream": "stdout",
       "text": "\n\n--------------------------------------\nLooping Worst Case Scenario\n cat1: 10000 points, cat2: 5 points\n--------------------------------------\n>> Looping Method: \n1 loops, best of 3: 1.17 s per loop"
      },
      {
       "output_type": "stream",
       "stream": "stdout",
       "text": "\n>> Broadcasting Method: \n100 loops, best of 3: 12.3 ms per loop"
      },
      {
       "output_type": "stream",
       "stream": "stdout",
       "text": "\n"
      }
     ],
     "prompt_number": 6
    },
    {
     "cell_type": "markdown",
     "metadata": {},
     "source": "##Verdict##\n\nIn its worst-case runtime scenario, the array broadcasting method is ${\\sim} 10\\%$ slower than the simple looping scheme. However, in it's best-case runtime scenario, they broadcasted calculation is **nearly 1000 times faster than looping in Python!**"
    }
   ],
   "metadata": {}
  }
 ]
}