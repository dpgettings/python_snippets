{
 "metadata": {
  "name": ""
 },
 "nbformat": 3,
 "nbformat_minor": 0,
 "worksheets": [
  {
   "cells": [
    {
     "cell_type": "markdown",
     "metadata": {},
     "source": [
      "#Faster Spherical Distance Calculations with Numpy Array Broadcasting#\n",
      "\n",
      "**An IPython Notebook Documenting an Awesome Thing I Realized**<br>\n",
      "by **Daniel P. Gettings**\n",
      "\n",
      "In Python and other interpreted languages (e.g. IDL), one should attempt to do as little looping (at the interpreted level) as possible to maximize speed. This is what the vectorized array routines in Numpy are for -- they do most of the looping in C or C++ (which is <i>much</i> faster at looping). Some of the coolest and most efficient uses of Numpy arrays come from \"array broadcasting\". This set of notes give a short demo showing how broadcasting can dramatically increase the efficiency of the spherical distance calculations that are common in Astronomy."
     ]
    },
    {
     "cell_type": "code",
     "collapsed": true,
     "input": [
      "from kapteyn.maputils import dist_on_sphere as kap_dist\n",
      "import numpy as np\n",
      "# Nicer printing for a notebook\n",
      "np.set_printoptions(formatter={'float':lambda x: '{0:0.3f}'.format(x)})\n",
      "\n",
      "\"\"\"\n",
      " Using the angular distance function from the Kapteyn \n",
      " package (http://www.astro.rug.nl/software/kapteyn), \n",
      " which uses the formula from Vincenty (1975), which\n",
      " is accurate over the whole sphere.\n",
      "\n",
      "\"\"\""
     ],
     "language": "python",
     "metadata": {},
     "outputs": [
      {
       "metadata": {},
       "output_type": "pyout",
       "prompt_number": 1,
       "text": [
        "'\\n Using the angular distance function from the Kapteyn \\n package (http://www.astro.rug.nl/software/kapteyn), \\n which uses the formula from Vincenty (1975), which\\n is accurate over the whole sphere.\\n\\n'"
       ]
      }
     ],
     "prompt_number": 1
    },
    {
     "cell_type": "markdown",
     "metadata": {},
     "source": [
      "##Quick Demo##\n",
      "####Here's an illustration of the concept, to show that the broadcasted form of the calculation is doing the same thing as the standard one.####\n",
      "\n",
      "**Task:** <br>\n",
      "  Given two sets of astronomical coordinates (<tt>cat1</tt> and <tt>cat2</tt>):\n",
      "\n",
      "   1. Calculate the angular separation between every source in <tt>cat1</tt> and every source in <tt>cat2</tt>\n",
      "   2. For the source in <tt>cat2</tt> that is closest to a given source in <tt>cat1</tt>, find:\n",
      "    + The angular separation and \n",
      "    + The array index into <tt>cat2</tt>"
     ]
    },
    {
     "cell_type": "code",
     "collapsed": false,
     "input": [
      "# Generate Random (RA,Dec) Points\n",
      "ra1 = np.random.rand(6) - 0.5\n",
      "dec1 = np.random.rand(6) - 0.5\n",
      "ra2 = np.random.rand(4) + 180-0.5\n",
      "dec2 = np.random.rand(4) - 0.5"
     ],
     "language": "python",
     "metadata": {},
     "outputs": [],
     "prompt_number": 10
    },
    {
     "cell_type": "markdown",
     "metadata": {},
     "source": [
      "**Method 1 -- Looping**\n",
      "\n",
      "Loop over every source in <tt>cat1</tt>, calculating the distance to every source in <tt>cat2</tt>. This is a pretty standard \"vectorized\" method."
     ]
    },
    {
     "cell_type": "code",
     "collapsed": false,
     "input": [
      "for ind in xrange(ra1.size):\n",
      "    # Calculate the distance to every cat2 source, one cat1 source at a time\n",
      "    dist = kap_dist(ra1[ind].copy(), dec1[ind].copy(), ra2.copy(), dec2.copy())\n",
      "    print 'Separations:',repr(dist),\n",
      "    print '| Min Sep Value: {0:0.3f}'.format(dist.min()), '| Cat2 Min Index:', dist.argmin()"
     ],
     "language": "python",
     "metadata": {},
     "outputs": [
      {
       "output_type": "stream",
       "stream": "stdout",
       "text": [
        "Separations: array([179.868, 179.603, 179.639, 179.685]) | Min Sep Value: 179.603 | Cat2 Min Index: 1\n",
        "Separations: array([179.285, 179.077, 178.995, 179.229]) | Min Sep Value: 178.995 | Cat2 Min Index: 2\n",
        "Separations: array([179.657, 179.394, 179.454, 179.507]) | Min Sep Value: 179.394 | Cat2 Min Index: 1\n",
        "Separations: array([179.642, 179.533, 179.968, 179.497]) | Min Sep Value: 179.497 | Cat2 Min Index: 3\n",
        "Separations: array([179.489, 179.443, 179.124, 179.584]) | Min Sep Value: 179.124 | Cat2 Min Index: 2\n",
        "Separations: array([179.708, 179.734, 179.795, 179.647]) | Min Sep Value: 179.647 | Cat2 Min Index: 3\n"
       ]
      }
     ],
     "prompt_number": 11
    },
    {
     "cell_type": "markdown",
     "metadata": {},
     "source": [
      "**Method 2 -- Broadcasting**\n",
      "\n",
      "Broadcasting kind of works like the <a href=\"https://en.wikipedia.org/wiki/Outer_product#Definition_.28matrix_multiplication.29\">\"Outer Product\"</a> in matrix multiplication. You will notice that the results are the same!"
     ]
    },
    {
     "cell_type": "code",
     "collapsed": false,
     "input": [
      "# Reshaping one of the sets of coordinates tells Numpy to \"broadcast\"\n",
      "ra1_vert = ra1.reshape((-1,1))\n",
      "dec1_vert = dec1.reshape((-1,1))\n",
      "# The Numpy Functions in the Distance Calculation propagate the broadcasting\n",
      "dist_broadcast = kap_dist(ra1_vert.copy(), dec1_vert.copy(), ra2.copy(), dec2.copy())\n",
      "\n",
      "print 'Separations:'\n",
      "print ' ',repr(dist_broadcast)\n",
      "print 'Min Sep Values:'\n",
      "print ' ',repr(dist_broadcast.min(axis=1))\n",
      "print 'Cat2 Min Indices:'\n",
      "print ' ',repr(dist_broadcast.argmin(axis=1))"
     ],
     "language": "python",
     "metadata": {},
     "outputs": [
      {
       "output_type": "stream",
       "stream": "stdout",
       "text": [
        "Separations:\n",
        "  array([[179.868, 179.603, 179.639, 179.685],\n",
        "       [179.285, 179.077, 178.995, 179.229],\n",
        "       [179.657, 179.394, 179.454, 179.507],\n",
        "       [179.642, 179.533, 179.968, 179.497],\n",
        "       [179.489, 179.443, 179.124, 179.584],\n",
        "       [179.708, 179.734, 179.795, 179.647]])\n",
        "Min Sep Values:\n",
        "  array([179.603, 178.995, 179.394, 179.497, 179.124, 179.647])\n",
        "Cat2 Min Indices:\n",
        "  array([1, 2, 1, 3, 2, 3])\n"
       ]
      }
     ],
     "prompt_number": 12
    },
    {
     "cell_type": "markdown",
     "metadata": {},
     "source": [
      "##Timing Comparison##\n",
      "####Comparing the runtime of both methods, looping and broadcsting.####\n",
      "\n",
      "Why add this layer of complexity? Here we compare three different cases, varying the relative number of sources in each catalog. This is where things get interesting!"
     ]
    },
    {
     "cell_type": "code",
     "collapsed": false,
     "input": [
      "# Small cat1, large cat2\n",
      "# -----------------------\n",
      "# Generate Points, Normal and Broadcasted\n",
      "ra1 = np.random.rand(20) - 0.5\n",
      "dec1 = np.random.rand(20) - 0.5\n",
      "ra2 = np.random.rand(100) + 180-0.5\n",
      "dec2 = np.random.rand(100) - 0.5\n",
      "ra1_vert = ra1.reshape((-1,1))\n",
      "dec1_vert = dec1.reshape((-1,1))\n",
      "\n",
      "# Do Time Testing\n",
      "print 'Test 1'\n",
      "print ' cat1: {0:d} points, cat2: {1:d} points'.format(ra1.size, ra2.size)\n",
      "print '--------------------------------------'\n",
      "print '>> Looping Method: '\n",
      "%timeit for ind in xrange(ra1.size): dist = kap_dist(ra1[ind].copy(), dec1[ind].copy(), ra2.copy(), dec2.copy())\n",
      "print '>> Broadcasting Method: '\n",
      "%timeit dist_broadcast = kap_dist(ra1_vert.copy(), dec1_vert.copy(), ra2.copy(), dec2.copy())"
     ],
     "language": "python",
     "metadata": {},
     "outputs": [
      {
       "output_type": "stream",
       "stream": "stdout",
       "text": [
        "Test 1\n",
        " cat1: 20 points, cat2: 100 points\n",
        "--------------------------------------\n",
        ">> Looping Method: \n",
        "100 loops, best of 3: 2.85 ms per loop"
       ]
      },
      {
       "output_type": "stream",
       "stream": "stdout",
       "text": [
        "\n",
        ">> Broadcasting Method: \n",
        "1000 loops, best of 3: 517 \u00b5s per loop"
       ]
      },
      {
       "output_type": "stream",
       "stream": "stdout",
       "text": [
        "\n"
       ]
      }
     ],
     "prompt_number": 5
    },
    {
     "cell_type": "code",
     "collapsed": false,
     "input": [
      "# Large cat1, small cat2\n",
      "# -----------------------\n",
      "# Generate Points, Normal and Broadcasted\n",
      "ra1 = np.random.rand(100) - 0.5\n",
      "dec1 = np.random.rand(100) - 0.5\n",
      "ra2 = np.random.rand(20) + 180-0.5\n",
      "dec2 = np.random.rand(20) - 0.5\n",
      "ra1_vert = ra1.reshape((-1,1))\n",
      "dec1_vert = dec1.reshape((-1,1))\n",
      "\n",
      "# Do Time Testing\n",
      "print 'Test 2'\n",
      "print ' cat1: {0:d} points, cat2: {1:d} points'.format(ra1.size, ra2.size)\n",
      "print '--------------------------------------'\n",
      "print '>> Looping Method: '\n",
      "%timeit for ind in xrange(ra1.size): dist = kap_dist(ra1[ind].copy(), dec1[ind].copy(), ra2.copy(), dec2.copy())\n",
      "print '>> Broadcasting Method: '\n",
      "%timeit dist_broadcast = kap_dist(ra1_vert.copy(), dec1_vert.copy(), ra2.copy(), dec2.copy())"
     ],
     "language": "python",
     "metadata": {},
     "outputs": [
      {
       "output_type": "stream",
       "stream": "stdout",
       "text": [
        "Test 2\n",
        " cat1: 100 points, cat2: 20 points\n",
        "--------------------------------------\n",
        ">> Looping Method: \n",
        "100 loops, best of 3: 11.9 ms per loop"
       ]
      },
      {
       "output_type": "stream",
       "stream": "stdout",
       "text": [
        "\n",
        ">> Broadcasting Method: \n",
        "1000 loops, best of 3: 543 \u00b5s per loop"
       ]
      },
      {
       "output_type": "stream",
       "stream": "stdout",
       "text": [
        "\n"
       ]
      }
     ],
     "prompt_number": 6
    },
    {
     "cell_type": "code",
     "collapsed": false,
     "input": [
      "# Large cat1, Large cat2\n",
      "# -----------------------\n",
      "# Generate Points, Normal and Broadcasted\n",
      "ra1 = np.random.rand(100) - 0.5\n",
      "dec1 = np.random.rand(100) - 0.5\n",
      "ra2 = np.random.rand(100) + 180-0.5\n",
      "dec2 = np.random.rand(100) - 0.5\n",
      "ra1_vert = ra1.reshape((-1,1))\n",
      "dec1_vert = dec1.reshape((-1,1))\n",
      "\n",
      "# Do Time Testing\n",
      "print 'Test 3'\n",
      "print ' cat1: {0:d} points, cat2: {1:d} points'.format(ra1.size, ra2.size)\n",
      "print '--------------------------------------'\n",
      "print '>> Looping Method: '\n",
      "%timeit for ind in xrange(ra1.size): dist = kap_dist(ra1[ind].copy(), dec1[ind].copy(), ra2.copy(), dec2.copy())\n",
      "print '>> Broadcasting Method: '\n",
      "%timeit dist_broadcast = kap_dist(ra1_vert.copy(), dec1_vert.copy(), ra2.copy(), dec2.copy())"
     ],
     "language": "python",
     "metadata": {},
     "outputs": [
      {
       "output_type": "stream",
       "stream": "stdout",
       "text": [
        "Test 3\n",
        " cat1: 100 points, cat2: 100 points\n",
        "--------------------------------------\n",
        ">> Looping Method: \n",
        "100 loops, best of 3: 15.8 ms per loop"
       ]
      },
      {
       "output_type": "stream",
       "stream": "stdout",
       "text": [
        "\n",
        ">> Broadcasting Method: \n",
        "100 loops, best of 3: 2.02 ms per loop"
       ]
      },
      {
       "output_type": "stream",
       "stream": "stdout",
       "text": [
        "\n"
       ]
      }
     ],
     "prompt_number": 7
    },
    {
     "cell_type": "markdown",
     "metadata": {},
     "source": [
      "####Worse-Case Scenarios####\n",
      "\n",
      "Here we compare the worst-case runtime scenarios for each method. \n",
      "\n",
      "+ For **broadcasting**, the worst-case is a very small number of sources in <tt>cat1</tt> relative to <tt>cat2</tt>. In this case, looping gains its greatest level of optimization from Numpy's vectorized array operations, putting nearly all the *actual* looping in C/C++. But it still performs *fewer* loop iterations in C/C++ than the broadcasted calculation.\n",
      "\n",
      "+ The worse-case for **looping** is a very large number of <tt>cat1</tt> sources relative to <tt>cat2</tt>. Only a tiny fraction of the *actual* looping gets done in C/C++, while the vast majority of it is performed in (slow) Python. For broadcasting, the calculation looks nearly identical to its worst-case, putting *all* the looping in C/C++."
     ]
    },
    {
     "cell_type": "code",
     "collapsed": false,
     "input": [
      "# ----------------------------------\n",
      "# Broadcasting Worst Case Scenario \n",
      "# --> Tiny cat1, huge cat2\n",
      "# ----------------------------------\n",
      "# Generate Points, Normal and Broadcasted\n",
      "ra1 = np.random.rand(5) - 0.5\n",
      "dec1 = np.random.rand(5) - 0.5\n",
      "ra2 = np.random.rand(1e4) + 180-0.5\n",
      "dec2 = np.random.rand(1e4) - 0.5\n",
      "ra1_vert = ra1.reshape((-1,1))\n",
      "dec1_vert = dec1.reshape((-1,1))\n",
      "\n",
      "# Do Time Testing\n",
      "print 'Broadcasting Worst Case Scenario'\n",
      "print ' cat1: {0:d} points, cat2: {1:d} points'.format(ra1.size, ra2.size)\n",
      "print '--------------------------------------'\n",
      "print '>> Looping Method: '\n",
      "%timeit for ind in xrange(ra1.size): dist = kap_dist(ra1[ind].copy(), dec1[ind].copy(), ra2.copy(), dec2.copy())\n",
      "print '>> Broadcasting Method: '\n",
      "%timeit dist_broadcast = kap_dist(ra1_vert.copy(), dec1_vert.copy(), ra2.copy(), dec2.copy())"
     ],
     "language": "python",
     "metadata": {},
     "outputs": [
      {
       "output_type": "stream",
       "stream": "stdout",
       "text": [
        "Broadcasting Worst Case Scenario\n",
        " cat1: 5 points, cat2: 10000 points\n",
        "--------------------------------------\n",
        ">> Looping Method: \n",
        "100 loops, best of 3: 13.5 ms per loop"
       ]
      },
      {
       "output_type": "stream",
       "stream": "stdout",
       "text": [
        "\n",
        ">> Broadcasting Method: \n",
        "100 loops, best of 3: 11 ms per loop"
       ]
      },
      {
       "output_type": "stream",
       "stream": "stdout",
       "text": [
        "\n"
       ]
      }
     ],
     "prompt_number": 8
    },
    {
     "cell_type": "code",
     "collapsed": false,
     "input": [
      "# ----------------------------------\n",
      "# Looping Worst Case Scenario \n",
      "# --> Huge cat1, tiny cat2\n",
      "# ----------------------------------\n",
      "# Generate Points, Normal and Broadcasted\n",
      "ra1 = np.random.rand(1e4) - 0.5\n",
      "dec1 = np.random.rand(1e4) - 0.5\n",
      "ra2 = np.random.rand(5) + 180-0.5\n",
      "dec2 = np.random.rand(5) - 0.5\n",
      "ra1_vert = ra1.reshape((-1,1))\n",
      "dec1_vert = dec1.reshape((-1,1))\n",
      "\n",
      "# Do Time Testing\n",
      "print 'Looping Worst Case Scenario'\n",
      "print ' cat1: {0:d} points, cat2: {1:d} points'.format(ra1.size, ra2.size)\n",
      "print '--------------------------------------'\n",
      "print '>> Looping Method: '\n",
      "%timeit for ind in xrange(ra1.size): dist = kap_dist(ra1[ind].copy(), dec1[ind].copy(), ra2.copy(), dec2.copy())\n",
      "print '>> Broadcasting Method: '\n",
      "%timeit dist_broadcast = kap_dist(ra1_vert.copy(), dec1_vert.copy(), ra2.copy(), dec2.copy())"
     ],
     "language": "python",
     "metadata": {},
     "outputs": [
      {
       "output_type": "stream",
       "stream": "stdout",
       "text": [
        "Looping Worst Case Scenario\n",
        " cat1: 10000 points, cat2: 5 points\n",
        "--------------------------------------\n",
        ">> Looping Method: \n",
        "1 loops, best of 3: 1.17 s per loop"
       ]
      },
      {
       "output_type": "stream",
       "stream": "stdout",
       "text": [
        "\n",
        ">> Broadcasting Method: \n",
        "100 loops, best of 3: 12.4 ms per loop"
       ]
      },
      {
       "output_type": "stream",
       "stream": "stdout",
       "text": [
        "\n"
       ]
      }
     ],
     "prompt_number": 9
    },
    {
     "cell_type": "markdown",
     "metadata": {},
     "source": [
      "##Verdict##\n",
      "\n",
      "In its worst-case runtime scenario, the array broadcasting method is ${\\sim} 10\\%$ slower than the simple looping scheme. However, in it's best-case runtime scenario, they broadcasted calculation is **nearly 1000 times faster than looping in Python!**"
     ]
    }
   ],
   "metadata": {}
  }
 ]
}